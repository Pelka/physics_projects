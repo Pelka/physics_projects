{
 "cells": [
  {
   "cell_type": "code",
   "id": "initial_id",
   "metadata": {
    "collapsed": true,
    "ExecuteTime": {
     "end_time": "2025-05-28T15:56:47.477960Z",
     "start_time": "2025-05-28T15:56:47.131754Z"
    }
   },
   "source": [
    "import pandas as pd\n",
    "import numpy as np\n",
    "import matplotlib.pyplot as plt"
   ],
   "outputs": [],
   "execution_count": 1
  },
  {
   "metadata": {
    "ExecuteTime": {
     "end_time": "2025-05-28T15:56:47.484098Z",
     "start_time": "2025-05-28T15:56:47.480978Z"
    }
   },
   "cell_type": "code",
   "source": [
    "def remove_flat_start(df, tolerance=0.05, min_points=5):\n",
    "    pos = df.iloc[:, 1].values\n",
    "\n",
    "    for i in range(1, len(pos) - min_points):\n",
    "        window = pos[i:i + min_points]\n",
    "        diffs = abs(window - pos[0])\n",
    "        if (diffs > tolerance).any():\n",
    "            return df.iloc[i:].reset_index(drop=True)\n",
    "\n",
    "    return df.iloc[0:0]\n",
    "\n",
    "def remove_after_bounce(df, tolerance=1e-3, min_points=3):\n",
    "    pos = df.iloc[:, 1].to_numpy()\n",
    "    diff = np.diff(pos)\n",
    "    for i in range(len(diff) - min_points + 1):\n",
    "        if (diff[i:i + min_points] > tolerance).all():\n",
    "            return df.iloc[: i + 1].reset_index(drop=True)\n",
    "    return df.copy()\n",
    "\n",
    "def normalize_time(df):\n",
    "    df = df.copy()\n",
    "    df['t'] = df['t'] - df['t'].iloc[0]\n",
    "    return df\n",
    "\n",
    "def merge_mass_tables(tables):\n",
    "    merged = []\n",
    "    for table in tables:\n",
    "        temp = table.copy()\n",
    "        temp.columns = ['t', 'y']\n",
    "        merged.append(temp)\n",
    "    return pd.concat(merged, ignore_index=True)"
   ],
   "id": "a013ddf860d2814c",
   "outputs": [],
   "execution_count": 2
  },
  {
   "metadata": {
    "ExecuteTime": {
     "end_time": "2025-05-28T15:56:47.544229Z",
     "start_time": "2025-05-28T15:56:47.536775Z"
    }
   },
   "cell_type": "code",
   "source": [
    "rdf_ball = pd.read_csv('data/pelota.csv')\n",
    "rdf_1f = pd.read_csv('data/filtros0_cafe.csv')\n",
    "rdf_2f = pd.read_csv('data/filtros1_cafe.csv')\n",
    "rdf_3f = pd.read_csv('data/filtros2_cafe.csv')"
   ],
   "id": "d53db7de2e4fa24e",
   "outputs": [],
   "execution_count": 3
  },
  {
   "metadata": {
    "ExecuteTime": {
     "end_time": "2025-05-28T15:56:47.594857Z",
     "start_time": "2025-05-28T15:56:47.589587Z"
    }
   },
   "cell_type": "code",
   "source": [
    "rdf_ball = rdf_ball[rdf_ball.drop(columns='t').notna().any(axis=1)]\n",
    "df = rdf_ball.iloc[:,:-1]\n",
    "df.info()"
   ],
   "id": "f47a24246acfd18d",
   "outputs": [
    {
     "name": "stdout",
     "output_type": "stream",
     "text": [
      "<class 'pandas.core.frame.DataFrame'>\n",
      "Index: 236 entries, 0 to 3233\n",
      "Data columns (total 6 columns):\n",
      " #   Column  Non-Null Count  Dtype  \n",
      "---  ------  --------------  -----  \n",
      " 0   t       236 non-null    float64\n",
      " 1   mass A  67 non-null     float64\n",
      " 2   mass B  43 non-null     float64\n",
      " 3   mass C  45 non-null     float64\n",
      " 4   mass D  39 non-null     float64\n",
      " 5   mass E  42 non-null     float64\n",
      "dtypes: float64(6)\n",
      "memory usage: 12.9 KB\n"
     ]
    }
   ],
   "execution_count": 4
  },
  {
   "metadata": {
    "ExecuteTime": {
     "end_time": "2025-05-28T15:56:47.642460Z",
     "start_time": "2025-05-28T15:56:47.633449Z"
    }
   },
   "cell_type": "code",
   "source": [
    "mass_cols = sorted(c for c in df.columns if c.startswith('mass'))\n",
    "df_list = [df[['t', m]].dropna() for m in mass_cols]\n",
    "\n",
    "filtered_df_list = []\n",
    "for d in df_list:\n",
    "    d1 = remove_flat_start(d, tolerance=0.1, min_points=11)\n",
    "    if d1.empty:\n",
    "        continue\n",
    "    d2 = remove_after_bounce(d1, tolerance=0.01, min_points=2)\n",
    "    if d2.empty:\n",
    "        continue\n",
    "    d_norm = normalize_time(d2)\n",
    "    filtered_df_list.append(d_norm)\n",
    "\n",
    "df_ball = merge_mass_tables(filtered_df_list)"
   ],
   "id": "e3ae3d2982b08181",
   "outputs": [],
   "execution_count": 5
  },
  {
   "metadata": {
    "ExecuteTime": {
     "end_time": "2025-05-28T15:56:47.691256Z",
     "start_time": "2025-05-28T15:56:47.684922Z"
    }
   },
   "cell_type": "code",
   "source": [
    "bin_size = 0.025\n",
    "df_ball['t_bin'] = (df_ball['t'] / bin_size).round().mul(bin_size)\n",
    "grouped = df_ball.groupby('t_bin')\n",
    "\n",
    "delta_y_tracker = 0.02 * 2.2\n",
    "delta_flexometro = 0.001\n",
    "systematic_uncertainty = delta_y_tracker**2 + delta_flexometro**2\n",
    "\n",
    "summary = {'t': [], 'y_mean': [], 'sem': [], 'total_uncertainty': []}\n",
    "\n",
    "for t_val, grp in grouped:\n",
    "    y_mean = grp['y'].mean()\n",
    "    n = len(grp)\n",
    "    sem = grp['y'].std(ddof=1) / np.sqrt(n) if n > 1 else 0.0\n",
    "    total_uncertainty = np.sqrt(sem**2 + systematic_uncertainty)\n",
    "    summary['t'].append(t_val)\n",
    "    summary['y_mean'].append(y_mean)\n",
    "    summary['sem'].append(sem)\n",
    "    summary['total_uncertainty'].append(total_uncertainty)\n",
    "\n",
    "fdf_ball = pd.DataFrame(summary)"
   ],
   "id": "d35d3d120c6fb6e6",
   "outputs": [],
   "execution_count": 6
  },
  {
   "metadata": {
    "ExecuteTime": {
     "end_time": "2025-05-28T15:56:47.736859Z",
     "start_time": "2025-05-28T15:56:47.732473Z"
    }
   },
   "cell_type": "code",
   "source": "print(fdf_ball)",
   "id": "7982acedd9377c7f",
   "outputs": [
    {
     "name": "stdout",
     "output_type": "stream",
     "text": [
      "        t    y_mean       sem  total_uncertainty\n",
      "0   0.000  2.015349  0.000951           0.044022\n",
      "1   0.025  2.015811  0.000625           0.044016\n",
      "2   0.050  2.011257  0.001453           0.044035\n",
      "3   0.075  2.000981  0.002338           0.044073\n",
      "4   0.100  1.980594  0.003018           0.044115\n",
      "5   0.125  1.956379  0.003521           0.044152\n",
      "6   0.150  1.925078  0.003692           0.044166\n",
      "7   0.175  1.881701  0.005763           0.044387\n",
      "8   0.200  1.836571  0.005684           0.044377\n",
      "9   0.225  1.783295  0.007598           0.044662\n",
      "10  0.250  1.723827  0.007177           0.044593\n",
      "11  0.275  1.656975  0.009369           0.044997\n",
      "12  0.300  1.584013  0.008385           0.044803\n",
      "13  0.325  1.497436  0.010874           0.045335\n",
      "14  0.350  1.410046  0.008794           0.044881\n",
      "15  0.375  1.312704  0.012927           0.045871\n",
      "16  0.400  1.209435  0.007895           0.044714\n",
      "17  0.425  1.095699  0.015523           0.046669\n",
      "18  0.450  0.980092  0.014285           0.046272\n",
      "19  0.475  0.855910  0.017586           0.047395\n",
      "20  0.500  0.725800  0.014910           0.046468\n",
      "21  0.525  0.635923  0.015723           0.046736\n",
      "22  0.550  0.495083  0.019629           0.048190\n",
      "23  0.575  0.347545  0.018432           0.047715\n",
      "24  0.600  0.192776  0.021597           0.049025\n",
      "25  0.625  0.057037  0.013477           0.046029\n",
      "26  0.650  0.005504  0.007417           0.044632\n"
     ]
    }
   ],
   "execution_count": 7
  },
  {
   "metadata": {
    "ExecuteTime": {
     "end_time": "2025-05-28T15:56:47.971553Z",
     "start_time": "2025-05-28T15:56:47.781063Z"
    }
   },
   "cell_type": "code",
   "source": [
    "g = 9.78\n",
    "h = 2.0\n",
    "\n",
    "t_end = np.sqrt(2 * h / g)\n",
    "t_model = np.linspace(0, t_end, 500)\n",
    "y_model = h - 0.5 * g * t_model**2\n",
    "\n",
    "plt.figure(figsize=(10, 6))\n",
    "\n",
    "plt.errorbar(\n",
    "    fdf_ball['t'],\n",
    "    fdf_ball['y_mean'],\n",
    "    yerr=fdf_ball['total_uncertainty'],\n",
    "    fmt='o', markersize=4, capsize=3,\n",
    "    label='promedio ± Δtotal'\n",
    ")\n",
    "\n",
    "plt.plot(\n",
    "    t_model,\n",
    "    y_model,\n",
    "    color='tab:red',\n",
    "    linewidth=2,\n",
    "    label=r'Modelo ideal $y(t)=2-\\frac{1}{2}\\,9.78\\,t^{2}$'\n",
    ")\n",
    "\n",
    "plt.xlabel('t (s)')\n",
    "plt.ylabel('y (m)')\n",
    "plt.title('Caída libre desde 2 m: posición vs. tiempo')\n",
    "plt.legend()\n",
    "plt.grid(True)\n",
    "plt.tight_layout()\n",
    "plt.show()"
   ],
   "id": "231e184c2959ee9f",
   "outputs": [
    {
     "data": {
      "text/plain": [
       "<Figure size 1000x600 with 1 Axes>"
      ],
      "image/png": "[encoded data removed]"
     },
     "metadata": {},
     "output_type": "display_data"
    }
   ],
   "execution_count": 8
  },
  {
   "metadata": {
    "ExecuteTime": {
     "end_time": "2025-05-28T15:56:48.053290Z",
     "start_time": "2025-05-28T15:56:48.048787Z"
    }
   },
   "cell_type": "code",
   "source": [
    "fdf_ball['y_model'] = h - 0.5 * g * fdf_ball['t']**2\n",
    "fdf_ball['residual'] = fdf_ball['y_mean'] - fdf_ball['y_model']\n",
    "\n",
    "mae  = fdf_ball['residual'].abs().mean()\n",
    "rmse = np.sqrt((fdf_ball['residual']**2).mean())\n",
    "\n",
    "fdf_ball['z_score'] = fdf_ball['residual'] / fdf_ball['total_uncertainty']\n",
    "\n",
    "within_1sigma = (fdf_ball['z_score'].abs() <= 1).mean() * 100\n",
    "within_2sigma = (fdf_ball['z_score'].abs() <= 2).mean() * 100\n",
    "\n",
    "z_score_std = fdf_ball['z_score'].std(ddof=1)\n",
    "\n",
    "print(f\"MAE: {mae:.6f} m\")\n",
    "print(f\"RMSE: {rmse:.6f} m\")\n",
    "print(f\"% dentro 1σ: {within_1sigma:.1f}%\")\n",
    "print(f\"% dentro 2σ: {within_2sigma:.1f}%\")\n",
    "print(f\"σ(z): {z_score_std:.3f}\")"
   ],
   "id": "926c48b584b0bbd",
   "outputs": [
    {
     "name": "stdout",
     "output_type": "stream",
     "text": [
      "MAE: 0.028221 m\n",
      "RMSE: 0.031542 m\n",
      "% dentro 1σ: 92.6%\n",
      "% dentro 2σ: 100.0%\n",
      "σ(z): 0.692\n"
     ]
    }
   ],
   "execution_count": 9
  },
  {
   "metadata": {
    "ExecuteTime": {
     "end_time": "2025-05-28T15:56:48.099983Z",
     "start_time": "2025-05-28T15:56:48.096369Z"
    }
   },
   "cell_type": "code",
   "source": [
    "rdf_1f = rdf_1f[rdf_1f.drop(columns='t').notna().any(axis=1)]\n",
    "df = rdf_1f.iloc[:,:-1]"
   ],
   "id": "c76edb48b2c6a0e",
   "outputs": [],
   "execution_count": 10
  },
  {
   "metadata": {
    "ExecuteTime": {
     "end_time": "2025-05-28T15:56:48.150393Z",
     "start_time": "2025-05-28T15:56:48.141933Z"
    }
   },
   "cell_type": "code",
   "source": [
    "mass_cols = sorted(c for c in df.columns if c.startswith('mass'))\n",
    "\n",
    "df_list = [\n",
    "    df[['t', m]].dropna()\n",
    "    for m in mass_cols\n",
    "]\n",
    "\n",
    "filtered_df_list = []\n",
    "\n",
    "for d in df_list:\n",
    "    d_cut = remove_flat_start(d, tolerance=0.1, min_points=11)\n",
    "    if not d_cut.empty:\n",
    "        d_norm = normalize_time(d_cut)\n",
    "        filtered_df_list.append(d_norm)\n",
    "\n",
    "df_1f = merge_mass_tables(filtered_df_list)\n",
    "df_1f[\"y\"] = df_1f[\"y\"] * 2"
   ],
   "id": "ba2850fcf2a533ea",
   "outputs": [],
   "execution_count": 11
  },
  {
   "metadata": {
    "ExecuteTime": {
     "end_time": "2025-05-28T15:56:48.200346Z",
     "start_time": "2025-05-28T15:56:48.192875Z"
    }
   },
   "cell_type": "code",
   "source": [
    "bin_size = 0.025\n",
    "df_1f['t_bin'] = (df_1f['t'] / bin_size).round().mul(bin_size)\n",
    "grouped = df_1f.groupby('t_bin')\n",
    "\n",
    "delta_y_tracker = 0.02 * 2.2\n",
    "delta_flexometro = 0.001\n",
    "delta_time = 1/30\n",
    "systematic_uncertainty = delta_y_tracker**2 + delta_flexometro**2 + delta_time**2\n",
    "\n",
    "summary = {'t': [], 'y_mean': [], 'sem': [], 'total_uncertainty': []}\n",
    "\n",
    "for t_val, grp in grouped:\n",
    "    y_mean = grp['y'].mean()\n",
    "    n = len(grp)\n",
    "    sem = grp['y'].std(ddof=1) / np.sqrt(n) if n > 1 else 0.0\n",
    "    total_uncertainty = np.sqrt(sem**2 + systematic_uncertainty)\n",
    "    summary['t'].append(t_val)\n",
    "    summary['y_mean'].append(y_mean)\n",
    "    summary['sem'].append(sem)\n",
    "    summary['total_uncertainty'].append(total_uncertainty)\n",
    "\n",
    "df_1f = pd.DataFrame(summary)"
   ],
   "id": "31fab64d0e8ca5d9",
   "outputs": [],
   "execution_count": 12
  },
  {
   "metadata": {
    "ExecuteTime": {
     "end_time": "2025-05-28T15:56:48.245162Z",
     "start_time": "2025-05-28T15:56:48.242561Z"
    }
   },
   "cell_type": "code",
   "source": [
    "rdf_2f = rdf_2f[rdf_2f.drop(columns='t').notna().any(axis=1)]\n",
    "df = rdf_2f.iloc[:,:-1]"
   ],
   "id": "9e84511376192fe5",
   "outputs": [],
   "execution_count": 13
  },
  {
   "metadata": {
    "ExecuteTime": {
     "end_time": "2025-05-28T15:56:48.296325Z",
     "start_time": "2025-05-28T15:56:48.288705Z"
    }
   },
   "cell_type": "code",
   "source": [
    "mass_cols = sorted(c for c in df.columns if c.startswith('mass'))\n",
    "\n",
    "df_list = [\n",
    "    df[['t', m]].dropna()\n",
    "    for m in mass_cols\n",
    "]\n",
    "\n",
    "filtered_df_list = []\n",
    "\n",
    "for d in df_list:\n",
    "    d_cut = remove_flat_start(d, tolerance=0.1, min_points=11)\n",
    "    if not d_cut.empty:\n",
    "        d_norm = normalize_time(d_cut)\n",
    "        filtered_df_list.append(d_norm)\n",
    "\n",
    "df_2f = merge_mass_tables(filtered_df_list)"
   ],
   "id": "b73f992116af3586",
   "outputs": [],
   "execution_count": 14
  },
  {
   "metadata": {
    "ExecuteTime": {
     "end_time": "2025-05-28T15:56:48.344718Z",
     "start_time": "2025-05-28T15:56:48.337970Z"
    }
   },
   "cell_type": "code",
   "source": [
    "bin_size = 0.025\n",
    "df_2f['t_bin'] = (df_2f['t'] / bin_size).round().mul(bin_size)\n",
    "grouped = df_2f.groupby('t_bin')\n",
    "\n",
    "delta_y_tracker = 0.02 * 2.2\n",
    "delta_flexometro = 0.001\n",
    "delta_time = 1/30\n",
    "systematic_uncertainty = delta_y_tracker**2 + delta_flexometro**2 + delta_time**2\n",
    "\n",
    "summary = {'t': [], 'y_mean': [], 'sem': [], 'total_uncertainty': []}\n",
    "\n",
    "for t_val, grp in grouped:\n",
    "    y_mean = grp['y'].mean()\n",
    "    n = len(grp)\n",
    "    sem = grp['y'].std(ddof=1) / np.sqrt(n) if n > 1 else 0.0\n",
    "    total_uncertainty = np.sqrt(sem**2 + systematic_uncertainty)\n",
    "    summary['t'].append(t_val)\n",
    "    summary['y_mean'].append(y_mean)\n",
    "    summary['sem'].append(sem)\n",
    "    summary['total_uncertainty'].append(total_uncertainty)\n",
    "\n",
    "df_2f = pd.DataFrame(summary)"
   ],
   "id": "aac041446d7addc6",
   "outputs": [],
   "execution_count": 15
  },
  {
   "metadata": {
    "ExecuteTime": {
     "end_time": "2025-05-28T15:56:48.389628Z",
     "start_time": "2025-05-28T15:56:48.386656Z"
    }
   },
   "cell_type": "code",
   "source": [
    "rdf_3f = rdf_3f[rdf_3f.drop(columns='t').notna().any(axis=1)]\n",
    "df = rdf_3f.iloc[:,:-1]"
   ],
   "id": "9802c85129b80f56",
   "outputs": [],
   "execution_count": 16
  },
  {
   "metadata": {
    "ExecuteTime": {
     "end_time": "2025-05-28T15:56:48.439335Z",
     "start_time": "2025-05-28T15:56:48.431667Z"
    }
   },
   "cell_type": "code",
   "source": [
    "mass_cols = sorted(c for c in df.columns if c.startswith('mass'))\n",
    "\n",
    "df_list = [\n",
    "    df[['t', m]].dropna()\n",
    "    for m in mass_cols\n",
    "]\n",
    "\n",
    "filtered_df_list = []\n",
    "\n",
    "for d in df_list:\n",
    "    d_cut = remove_flat_start(d, tolerance=0.1, min_points=11)\n",
    "    if not d_cut.empty:\n",
    "        d_norm = normalize_time(d_cut)\n",
    "        filtered_df_list.append(d_norm)\n",
    "\n",
    "df_3f = merge_mass_tables(filtered_df_list)"
   ],
   "id": "30b624cd4cfffca0",
   "outputs": [],
   "execution_count": 17
  },
  {
   "metadata": {
    "ExecuteTime": {
     "end_time": "2025-05-28T15:56:48.487834Z",
     "start_time": "2025-05-28T15:56:48.481585Z"
    }
   },
   "cell_type": "code",
   "source": [
    "bin_size = 0.025\n",
    "df_3f['t_bin'] = (df_3f['t'] / bin_size).round().mul(bin_size)\n",
    "grouped = df_3f.groupby('t_bin')\n",
    "\n",
    "delta_y_tracker = 0.02 * 2.2\n",
    "delta_flexometro = 0.001\n",
    "delta_time = 1/30\n",
    "systematic_uncertainty = delta_y_tracker**2 + delta_flexometro**2 + delta_time**2\n",
    "\n",
    "summary = {'t': [], 'y_mean': [], 'sem': [], 'total_uncertainty': []}\n",
    "\n",
    "for t_val, grp in grouped:\n",
    "    y_mean = grp['y'].mean()\n",
    "    n = len(grp)\n",
    "    sem = grp['y'].std(ddof=1) / np.sqrt(n) if n > 1 else 0.0\n",
    "    total_uncertainty = np.sqrt(sem**2 + systematic_uncertainty)\n",
    "    summary['t'].append(t_val)\n",
    "    summary['y_mean'].append(y_mean)\n",
    "    summary['sem'].append(sem)\n",
    "    summary['total_uncertainty'].append(total_uncertainty)\n",
    "\n",
    "df_3f = pd.DataFrame(summary)"
   ],
   "id": "7e93b5236fbf617e",
   "outputs": [],
   "execution_count": 18
  },
  {
   "metadata": {
    "ExecuteTime": {
     "end_time": "2025-05-28T16:00:18.813703Z",
     "start_time": "2025-05-28T16:00:18.808307Z"
    }
   },
   "cell_type": "code",
   "source": [
    "with pd.option_context('display.max_rows', None, 'display.max_columns', None):  # more options can be specified also\n",
    "    print(df_3f)\n",
    "\n",
    "# fig, axs = plt.subplots(1, 3, figsize=(18, 4))\n",
    "# axs = axs.flatten()\n",
    "#\n",
    "# for i, df in enumerate([df_1f, df_2f, df_3f]):\n",
    "#     x_col = df['t']\n",
    "#     y_col = df['y']\n",
    "#\n",
    "#     axs[i].scatter(x_col, y_col, s=5)\n",
    "#     axs[i].set_title(f\"Número de filtros: {i + 1}\")\n",
    "#     axs[i].set_xlabel(\"t (s)\")\n",
    "#     axs[i].set_ylabel(\"y (m)\")\n",
    "#     axs[i].grid(True)\n",
    "#\n",
    "# plt.tight_layout()\n",
    "# plt.show()"
   ],
   "id": "5491dd0fc446229d",
   "outputs": [
    {
     "name": "stdout",
     "output_type": "stream",
     "text": [
      "        t    y_mean       sem  total_uncertainty\n",
      "0   0.000  2.111025  0.008266           0.055825\n",
      "1   0.025  2.105375  0.006584           0.055601\n",
      "2   0.050  2.097615  0.010767           0.056250\n",
      "3   0.075  2.082317  0.007716           0.055746\n",
      "4   0.100  2.065586  0.009700           0.056055\n",
      "5   0.125  2.044005  0.007404           0.055704\n",
      "6   0.150  2.015686  0.011883           0.056474\n",
      "7   0.175  1.986531  0.008428           0.055849\n",
      "8   0.200  1.951658  0.012042           0.056508\n",
      "9   0.225  1.921635  0.009165           0.055965\n",
      "10  0.250  1.882013  0.013840           0.056918\n",
      "11  0.275  1.839310  0.011007           0.056296\n",
      "12  0.300  1.796513  0.015551           0.057358\n",
      "13  0.325  1.744493  0.012921           0.056702\n",
      "14  0.350  1.698091  0.018151           0.058117\n",
      "15  0.375  1.645310  0.015445           0.057329\n",
      "16  0.400  1.587568  0.022428           0.059591\n",
      "17  0.425  1.529831  0.018395           0.058193\n",
      "18  0.450  1.473595  0.026015           0.061032\n",
      "19  0.475  1.432477  0.028058           0.061930\n",
      "20  0.500  1.370730  0.021141           0.059119\n",
      "21  0.525  1.309757  0.030712           0.063177\n",
      "22  0.550  1.247921  0.022868           0.059758\n",
      "23  0.575  1.184427  0.033927           0.064801\n",
      "24  0.600  1.118177  0.024022           0.060209\n",
      "25  0.625  1.050940  0.034964           0.065350\n",
      "26  0.650  0.985385  0.024527           0.060413\n",
      "27  0.675  0.914703  0.032435           0.064032\n",
      "28  0.700  0.848774  0.023297           0.059924\n",
      "29  0.725  0.781937  0.032415           0.064022\n",
      "30  0.750  0.713436  0.022980           0.059801\n",
      "31  0.775  0.646532  0.031971           0.063799\n",
      "32  0.800  0.576774  0.022712           0.059699\n",
      "33  0.825  0.504947  0.031741           0.063684\n",
      "34  0.850  0.437505  0.023676           0.060072\n",
      "35  0.875  0.369786  0.037332           0.066647\n",
      "36  0.900  0.299222  0.026157           0.061093\n",
      "37  0.925  0.226176  0.039143           0.067678\n",
      "38  0.950  0.156486  0.028483           0.062124\n",
      "39  0.975  0.090453  0.041260           0.068924\n",
      "40  1.000  0.124523  0.013928           0.056939\n",
      "41  1.025  0.050666  0.005254           0.055459\n",
      "42  1.050  0.014074  0.003580           0.055326\n"
     ]
    }
   ],
   "execution_count": 25
  },
  {
   "metadata": {
    "ExecuteTime": {
     "end_time": "2025-05-28T15:56:48.784252Z",
     "start_time": "2025-05-28T15:56:48.664211Z"
    }
   },
   "cell_type": "code",
   "source": [
    "plt.figure(figsize=(10, 6))\n",
    "plt.scatter(fdf_ball['t'], fdf_ball['y_mean'], s=5, label='Pelota')\n",
    "plt.scatter(df_1f['t'], df_1f['y_mean'], s=5, label='1 filtro')\n",
    "plt.scatter(df_2f['t'], df_2f['y_mean'], s=5, label='2 filtros')\n",
    "plt.scatter(df_3f['t'], df_3f['y_mean'], s=5, label='3 filtros')\n",
    "plt.xlabel('t (s)')\n",
    "plt.ylabel('y (m)')\n",
    "plt.title('Comparación de caída de filtros de café')\n",
    "plt.legend()\n",
    "plt.grid(True)\n",
    "plt.tight_layout()\n",
    "plt.show()"
   ],
   "id": "2499eb9b62e85304",
   "outputs": [
    {
     "data": {
      "text/plain": [
       "<Figure size 1000x600 with 1 Axes>"
      ],
      "image/png": "[encoded data removed]"
     },
     "metadata": {},
     "output_type": "display_data"
    }
   ],
   "execution_count": 20
  },
  {
   "metadata": {
    "ExecuteTime": {
     "end_time": "2025-05-28T15:56:48.788983Z",
     "start_time": "2025-05-28T15:56:48.787478Z"
    }
   },
   "cell_type": "code",
   "source": "",
   "id": "8a61a7122e5ac4ea",
   "outputs": [],
   "execution_count": null
  }
 ],
 "metadata": {
  "kernelspec": {
   "display_name": "Python 3",
   "language": "python",
   "name": "python3"
  },
  "language_info": {
   "codemirror_mode": {
    "name": "ipython",
    "version": 2
   },
   "file_extension": ".py",
   "mimetype": "text/x-python",
   "name": "python",
   "nbconvert_exporter": "python",
   "pygments_lexer": "ipython2",
   "version": "2.7.6"
  }
 },
 "nbformat": 4,
 "nbformat_minor": 5
}

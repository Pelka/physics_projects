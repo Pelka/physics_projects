{
 "cells": [
  {
   "metadata": {},
   "cell_type": "markdown",
   "source": "![Problema a resolcver](./imgs/p1.png)",
   "id": "8cec4926fad76b61"
  },
  {
   "metadata": {
    "ExecuteTime": {
     "end_time": "2025-03-13T00:12:19.824713Z",
     "start_time": "2025-03-13T00:12:19.554298Z"
    }
   },
   "cell_type": "code",
   "source": [
    "import math\n",
    "import matplotlib.pyplot as plt\n",
    "from matplotlib.animation import PillowWriter"
   ],
   "id": "fb984a60457b4248",
   "outputs": [],
   "execution_count": 1
  },
  {
   "metadata": {
    "ExecuteTime": {
     "end_time": "2025-03-13T00:12:19.829752Z",
     "start_time": "2025-03-13T00:12:19.827705Z"
    }
   },
   "cell_type": "code",
   "source": [
    "# --- Parámetros ajustables ---\n",
    "rad = 0.35   # Radio de la llanta (en metros)\n",
    "vel = 1.0   # Velocidad de traslación (en m/s)"
   ],
   "id": "63098f8629317f1f",
   "outputs": [],
   "execution_count": 2
  },
  {
   "metadata": {
    "ExecuteTime": {
     "end_time": "2025-03-13T00:12:19.989403Z",
     "start_time": "2025-03-13T00:12:19.893087Z"
    }
   },
   "cell_type": "code",
   "source": [
    "# --- Funciones de la cicloide ---\n",
    "def x(t, v, r):\n",
    "    return v*t - r*math.sin((v/r)*t)\n",
    "\n",
    "def y(t, v, r):\n",
    "    return r - r*math.cos((v/r)*t)\n",
    "\n",
    "# --- Preparar la figura y ejes ---\n",
    "fig, ax = plt.subplots(figsize=(15, 4))\n",
    "plt.title(\"Modelo de la piedra (posición)\")\n",
    "\n",
    "# Trayectoria (línea) + marcador del punto\n",
    "path_line, = ax.plot([], [], '-')\n",
    "marker_line, = ax.plot([], [], 'o')\n",
    "\n",
    "# Círculo (llanta)\n",
    "wheel = plt.Circle((0, 0), rad, fill=False)\n",
    "ax.add_patch(wheel)\n",
    "\n",
    "# Límites y aspecto\n",
    "ax.set_xlim(0, 20 * rad)\n",
    "ax.set_ylim(0, 3 * rad)\n",
    "ax.set_aspect('equal', 'box')  # Misma escala en X y Y\n",
    "\n",
    "# Escritura de GIF\n",
    "metadata = dict(title=\"Test\", artist=\"Pelca\")\n",
    "writer = PillowWriter(fps=15, metadata=metadata)\n",
    "\n",
    "# --- Parámetros de tiempo y pasadas ---\n",
    "t_inicial = 0.0\n",
    "t_final = 20.0 * rad\n",
    "pasos = 500\n",
    "dt = (t_final - t_inicial) / pasos\n",
    "\n",
    "pass_count = 2\n",
    "total_frames = pass_count * (pasos + 1)\n",
    "\n",
    "x_vals, y_vals = [], []\n"
   ],
   "id": "ca652d1297f6efd",
   "outputs": [
    {
     "data": {
      "text/plain": [
       "<Figure size 1500x400 with 1 Axes>"
      ],
      "image/png": "[encoded data removed]"
     },
     "metadata": {},
     "output_type": "display_data"
    }
   ],
   "execution_count": 3
  },
  {
   "metadata": {
    "ExecuteTime": {
     "end_time": "2025-03-13T00:13:25.055835Z",
     "start_time": "2025-03-13T00:12:19.993731Z"
    }
   },
   "cell_type": "code",
   "source": [
    "with writer.saving(fig, \"rueda.gif\", dpi=100):\n",
    "    for frame_index in range(total_frames):\n",
    "        # Índice dentro de la pasada\n",
    "        i = frame_index % (pasos + 1)\n",
    "\n",
    "        # Al iniciar una nueva pasada, limpia el rastro\n",
    "        if i == 0:\n",
    "            x_vals.clear()\n",
    "            y_vals.clear()\n",
    "\n",
    "        # Calcula tiempo y coordenadas\n",
    "        t = t_inicial + i*dt\n",
    "        px = x(t, vel, rad)\n",
    "        py = y(t, vel, rad)\n",
    "\n",
    "        # Actualiza el trazo y el marcador\n",
    "        x_vals.append(px)\n",
    "        y_vals.append(py)\n",
    "        path_line.set_data(x_vals, y_vals)\n",
    "        marker_line.set_data([px], [py])\n",
    "\n",
    "        # Mueve la llanta a (vel*t, rad)\n",
    "        wheel.set_center((vel*t, rad))\n",
    "\n",
    "        # Captura el fotograma\n",
    "        writer.grab_frame()\n"
   ],
   "id": "73529b7985173be9",
   "outputs": [],
   "execution_count": 4
  }
 ],
 "metadata": {
  "kernelspec": {
   "display_name": "Python 3",
   "language": "python",
   "name": "python3"
  },
  "language_info": {
   "codemirror_mode": {
    "name": "ipython",
    "version": 2
   },
   "file_extension": ".py",
   "mimetype": "text/x-python",
   "name": "python",
   "nbconvert_exporter": "python",
   "pygments_lexer": "ipython2",
   "version": "2.7.6"
  }
 },
 "nbformat": 4,
 "nbformat_minor": 5
}
